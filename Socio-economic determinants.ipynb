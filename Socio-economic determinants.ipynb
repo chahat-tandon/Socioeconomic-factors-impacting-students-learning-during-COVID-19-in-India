{
 "cells": [
  {
   "cell_type": "code",
   "execution_count": 66,
   "metadata": {
    "id": "WbnXYnwQtRIw"
   },
   "outputs": [],
   "source": [
    "import pandas as pd"
   ]
  },
  {
   "cell_type": "code",
   "execution_count": 67,
   "metadata": {
    "id": "mFjPwyPetk6x"
   },
   "outputs": [],
   "source": [
    "dataset = pd.read_csv(\"COVID.csv\")\n",
    "data = pd.read_csv(\"COVID.csv\")"
   ]
  },
  {
   "cell_type": "code",
   "execution_count": 68,
   "metadata": {
    "colab": {
     "base_uri": "https://localhost:8080/",
     "height": 34
    },
    "id": "IawXNnnpuDnf",
    "outputId": "8a452d70-5a7c-42c6-b1b9-00ad205e48c0"
   },
   "outputs": [
    {
     "data": {
      "text/plain": [
       "False"
      ]
     },
     "execution_count": 68,
     "metadata": {},
     "output_type": "execute_result"
    }
   ],
   "source": [
    "dataset.isnull().any().any()"
   ]
  },
  {
   "cell_type": "code",
   "execution_count": 69,
   "metadata": {
    "colab": {
     "base_uri": "https://localhost:8080/",
     "height": 34
    },
    "id": "GEU-RPGzxCVJ",
    "outputId": "03c4c097-cc6b-46bc-9aef-416bc5b5a87c"
   },
   "outputs": [
    {
     "data": {
      "text/plain": [
       "pandas.core.frame.DataFrame"
      ]
     },
     "execution_count": 69,
     "metadata": {},
     "output_type": "execute_result"
    }
   ],
   "source": [
    "type(dataset)"
   ]
  },
  {
   "cell_type": "code",
   "execution_count": 70,
   "metadata": {
    "colab": {
     "base_uri": "https://localhost:8080/",
     "height": 303
    },
    "id": "R7AWai9P0IUi",
    "outputId": "deb706fa-2cfe-491d-908e-1c3ea202e591"
   },
   "outputs": [
    {
     "data": {
      "text/html": [
       "<div>\n",
       "<style scoped>\n",
       "    .dataframe tbody tr th:only-of-type {\n",
       "        vertical-align: middle;\n",
       "    }\n",
       "\n",
       "    .dataframe tbody tr th {\n",
       "        vertical-align: top;\n",
       "    }\n",
       "\n",
       "    .dataframe thead th {\n",
       "        text-align: right;\n",
       "    }\n",
       "</style>\n",
       "<table border=\"1\" class=\"dataframe\">\n",
       "  <thead>\n",
       "    <tr style=\"text-align: right;\">\n",
       "      <th></th>\n",
       "      <th>Gender</th>\n",
       "      <th>Standard</th>\n",
       "      <th>Institute type</th>\n",
       "      <th>Siblings</th>\n",
       "      <th>Father's job</th>\n",
       "      <th>Mother's job</th>\n",
       "      <th>English</th>\n",
       "      <th>Learning progress</th>\n",
       "      <th>Learning habit maintenance</th>\n",
       "      <th>Teacher influence</th>\n",
       "      <th>Parent influence</th>\n",
       "      <th>Sibling influence</th>\n",
       "      <th>Peer influence</th>\n",
       "      <th>Self-learning motivation</th>\n",
       "      <th>Concentration power</th>\n",
       "      <th>Family support</th>\n",
       "      <th>Effective learning environment</th>\n",
       "      <th>Daily learning objectives</th>\n",
       "      <th>Learning resources</th>\n",
       "      <th>Communication and collaboration with friends</th>\n",
       "    </tr>\n",
       "  </thead>\n",
       "  <tbody>\n",
       "    <tr>\n",
       "      <th>count</th>\n",
       "      <td>632</td>\n",
       "      <td>632</td>\n",
       "      <td>632</td>\n",
       "      <td>632</td>\n",
       "      <td>632</td>\n",
       "      <td>632</td>\n",
       "      <td>632</td>\n",
       "      <td>632</td>\n",
       "      <td>632</td>\n",
       "      <td>632</td>\n",
       "      <td>632</td>\n",
       "      <td>632</td>\n",
       "      <td>632</td>\n",
       "      <td>632</td>\n",
       "      <td>632</td>\n",
       "      <td>632</td>\n",
       "      <td>632</td>\n",
       "      <td>632</td>\n",
       "      <td>632</td>\n",
       "      <td>632</td>\n",
       "    </tr>\n",
       "    <tr>\n",
       "      <th>unique</th>\n",
       "      <td>2</td>\n",
       "      <td>3</td>\n",
       "      <td>3</td>\n",
       "      <td>5</td>\n",
       "      <td>4</td>\n",
       "      <td>4</td>\n",
       "      <td>4</td>\n",
       "      <td>5</td>\n",
       "      <td>5</td>\n",
       "      <td>5</td>\n",
       "      <td>5</td>\n",
       "      <td>5</td>\n",
       "      <td>5</td>\n",
       "      <td>5</td>\n",
       "      <td>5</td>\n",
       "      <td>5</td>\n",
       "      <td>5</td>\n",
       "      <td>5</td>\n",
       "      <td>5</td>\n",
       "      <td>5</td>\n",
       "    </tr>\n",
       "    <tr>\n",
       "      <th>top</th>\n",
       "      <td>Male</td>\n",
       "      <td>College Level ( 1st /2nd /3rd /4th ) year</td>\n",
       "      <td>Private</td>\n",
       "      <td>One</td>\n",
       "      <td>Service</td>\n",
       "      <td>House wife</td>\n",
       "      <td>Good</td>\n",
       "      <td>Agree</td>\n",
       "      <td>Agree</td>\n",
       "      <td>Agree</td>\n",
       "      <td>Agree</td>\n",
       "      <td>Agree</td>\n",
       "      <td>Agree</td>\n",
       "      <td>Agree</td>\n",
       "      <td>Agree</td>\n",
       "      <td>Agree</td>\n",
       "      <td>Agree</td>\n",
       "      <td>Agree</td>\n",
       "      <td>Agree</td>\n",
       "      <td>Agree</td>\n",
       "    </tr>\n",
       "    <tr>\n",
       "      <th>freq</th>\n",
       "      <td>363</td>\n",
       "      <td>614</td>\n",
       "      <td>490</td>\n",
       "      <td>362</td>\n",
       "      <td>368</td>\n",
       "      <td>504</td>\n",
       "      <td>353</td>\n",
       "      <td>336</td>\n",
       "      <td>357</td>\n",
       "      <td>357</td>\n",
       "      <td>358</td>\n",
       "      <td>294</td>\n",
       "      <td>303</td>\n",
       "      <td>370</td>\n",
       "      <td>303</td>\n",
       "      <td>338</td>\n",
       "      <td>354</td>\n",
       "      <td>341</td>\n",
       "      <td>348</td>\n",
       "      <td>371</td>\n",
       "    </tr>\n",
       "  </tbody>\n",
       "</table>\n",
       "</div>"
      ],
      "text/plain": [
       "       Gender                                   Standard Institute type  \\\n",
       "count     632                                        632            632   \n",
       "unique      2                                          3              3   \n",
       "top      Male  College Level ( 1st /2nd /3rd /4th ) year        Private   \n",
       "freq      363                                        614            490   \n",
       "\n",
       "       Siblings Father's job Mother's job English Learning progress  \\\n",
       "count       632          632          632     632               632   \n",
       "unique        5            4            4       4                 5   \n",
       "top         One      Service   House wife    Good             Agree   \n",
       "freq        362          368          504     353               336   \n",
       "\n",
       "       Learning habit maintenance Teacher influence Parent influence  \\\n",
       "count                         632               632              632   \n",
       "unique                          5                 5                5   \n",
       "top                         Agree             Agree            Agree   \n",
       "freq                          357               357              358   \n",
       "\n",
       "       Sibling influence Peer influence Self-learning motivation  \\\n",
       "count                632            632                      632   \n",
       "unique                 5              5                        5   \n",
       "top                Agree          Agree                    Agree   \n",
       "freq                 294            303                      370   \n",
       "\n",
       "       Concentration power Family support Effective learning environment  \\\n",
       "count                  632            632                            632   \n",
       "unique                   5              5                              5   \n",
       "top                  Agree          Agree                          Agree   \n",
       "freq                   303            338                            354   \n",
       "\n",
       "       Daily learning objectives Learning resources  \\\n",
       "count                        632                632   \n",
       "unique                         5                  5   \n",
       "top                        Agree              Agree   \n",
       "freq                         341                348   \n",
       "\n",
       "       Communication and collaboration with friends  \n",
       "count                                           632  \n",
       "unique                                            5  \n",
       "top                                           Agree  \n",
       "freq                                            371  "
      ]
     },
     "execution_count": 70,
     "metadata": {},
     "output_type": "execute_result"
    }
   ],
   "source": [
    "dataset.describe()"
   ]
  },
  {
   "cell_type": "markdown",
   "metadata": {
    "id": "1f0b8CPb4jPP"
   },
   "source": [
    "Find the unique values from categorical features"
   ]
  },
  {
   "cell_type": "code",
   "execution_count": 71,
   "metadata": {
    "id": "lo2jdSTB33oH"
   },
   "outputs": [],
   "source": [
    "import seaborn as sns"
   ]
  },
  {
   "cell_type": "code",
   "execution_count": 72,
   "metadata": {
    "colab": {
     "base_uri": "https://localhost:8080/",
     "height": 370
    },
    "id": "wVIfggNa306E",
    "outputId": "3236bc30-1037-4e79-9ad4-b38a53fb8e6d"
   },
   "outputs": [
    {
     "data": {
      "text/plain": [
       "Gender                                          object\n",
       "Standard                                        object\n",
       "Institute type                                  object\n",
       "Siblings                                        object\n",
       "Father's job                                    object\n",
       "Mother's job                                    object\n",
       "English                                         object\n",
       "Learning progress                               object\n",
       "Learning habit maintenance                      object\n",
       "Teacher influence                               object\n",
       "Parent influence                                object\n",
       "Sibling influence                               object\n",
       "Peer influence                                  object\n",
       "Self-learning motivation                        object\n",
       "Concentration power                             object\n",
       "Family support                                  object\n",
       "Effective learning environment                  object\n",
       "Daily learning objectives                       object\n",
       "Learning resources                              object\n",
       "Communication and collaboration with friends    object\n",
       "dtype: object"
      ]
     },
     "execution_count": 72,
     "metadata": {},
     "output_type": "execute_result"
    }
   ],
   "source": [
    "dataset.dtypes"
   ]
  },
  {
   "cell_type": "code",
   "execution_count": 73,
   "metadata": {
    "colab": {
     "base_uri": "https://localhost:8080/",
     "height": 907
    },
    "id": "bPblyu1F3uJ2",
    "outputId": "0ceb541d-b3e9-4c5b-91f6-b2e59b092ab3"
   },
   "outputs": [
    {
     "name": "stdout",
     "output_type": "stream",
     "text": [
      "Gender\n",
      "['Female' 'Male']\n",
      "Standard\n",
      "['College Level ( 1st /2nd /3rd /4th ) year' '09-Dec' '05-Aug']\n",
      "Institute type\n",
      "['Public' 'Private' 'International']\n",
      "Siblings\n",
      "['Three' 'No ( 0 )' 'One' 'Two' 'Over four']\n",
      "Father's job\n",
      "['Service' 'Others' 'Free' 'Social siences']\n",
      "Mother's job\n",
      "['Service' 'Others' 'House wife' 'Social siences']\n",
      "English\n",
      "['Excellent' 'Good' 'Average' 'Below Average']\n",
      "Learning progress\n",
      "['Agree' 'Neither agree nor disagree' 'Strongly Agree' 'Disagree'\n",
      " 'Strongly disagree']\n",
      "Learning habit maintenance\n",
      "['Disagree' 'Agree' 'Neither agree nor disagree' 'Strongly Agree'\n",
      " 'Strongly disagree']\n",
      "Teacher influence\n",
      "['Agree' 'Strongly agree' 'Strongly disagree' 'Neither agree nor disagree'\n",
      " 'Disagree']\n",
      "Parent influence\n",
      "['Agree' 'Strongly Agree' 'Neither agree nor disagree' 'Strongly disagree'\n",
      " 'Disagree']\n",
      "Sibling influence\n",
      "['Agree' 'Strongly Agree' 'Neither agree nor disagree' 'Disagree'\n",
      " 'Strongly disagree']\n",
      "Peer influence\n",
      "['Agree' 'Neither agree nor disagree' 'Strongly Agree' 'Strongly disagree'\n",
      " 'Disagree']\n",
      "Self-learning motivation\n",
      "['Agree' 'Disagree' 'Strongly Agree' 'Strongly disagree'\n",
      " 'Neither agree nor disagree']\n",
      "Concentration power\n",
      "['Agree' 'Neither agree nor disagree' 'Strongly agree' 'Disagree'\n",
      " 'Strongly disagree']\n",
      "Family support\n",
      "['Agree' 'Strongly Agree' 'Neither agree nor disagree' 'Strongly disagree'\n",
      " 'Disagree']\n",
      "Effective learning environment\n",
      "['Agree' 'Neither agree nor disagree' 'Strongly Agree' 'Strongly disagree'\n",
      " 'Disagree']\n",
      "Daily learning objectives\n",
      "['Agree' 'Strongly Agree' 'Neither agree nor disagree' 'Disagree'\n",
      " 'Strongly disagree']\n",
      "Learning resources\n",
      "['Agree' 'Strongly Agree' 'Disagree' 'Neither agree nor disagree'\n",
      " 'Strongly disagree']\n",
      "Communication and collaboration with friends\n",
      "['Agree' 'Strongly Agree' 'Disagree' 'Neither agree nor disagree'\n",
      " 'Strongly disagree']\n"
     ]
    }
   ],
   "source": [
    "for column in dataset.select_dtypes(include='object').columns:\n",
    "    print(column)\n",
    "    \n",
    "    print(dataset[column].unique())"
   ]
  },
  {
   "cell_type": "code",
   "execution_count": 74,
   "metadata": {
    "id": "TNp5WVMrw2Mo"
   },
   "outputs": [],
   "source": [
    "dict_gen = {'Male':0,                           #replacing the string with values\n",
    "         'Female':1}\n",
    "data['Gender'].replace(dict_gen,inplace=True)"
   ]
  },
  {
   "cell_type": "code",
   "execution_count": 75,
   "metadata": {
    "id": "NAC5L_JQo4Qx"
   },
   "outputs": [],
   "source": [
    "dict_std = {\"05-Aug\":0,                           #replacing the string with values\n",
    "         \"09-Dec\":1,\n",
    "          'College Level ( 1st /2nd /3rd /4th ) year':2}\n",
    "data['Standard'].replace(dict_std,inplace=True)"
   ]
  },
  {
   "cell_type": "code",
   "execution_count": 76,
   "metadata": {
    "id": "40geAr4npcKX"
   },
   "outputs": [],
   "source": [
    "dict_inst = {'Public':0,                           #replacing the string with values\n",
    "         'Private':1,\n",
    "          'International':2}\n",
    "data['Institute type'].replace(dict_inst,inplace=True)"
   ]
  },
  {
   "cell_type": "code",
   "execution_count": 77,
   "metadata": {
    "id": "H0jS2-v1pcSH"
   },
   "outputs": [],
   "source": [
    "dict_sib = {'No ( 0 )':0,                           #replacing the string with values\n",
    "         'One':1,\n",
    "          'Two':2,\n",
    "          'Three':3,\n",
    "          'Over four':4}\n",
    "data['Siblings'].replace(dict_sib,inplace=True)"
   ]
  },
  {
   "cell_type": "code",
   "execution_count": 78,
   "metadata": {
    "id": "EMgne_cgqbvf"
   },
   "outputs": [],
   "source": [
    "dict_fjob = {'Free':0,                           #replacing the string with values\n",
    "         'Others':2,\n",
    "          'Service':1,\n",
    "          'Social siences':3\n",
    "          }\n",
    "data[\"Father's job\"].replace(dict_fjob,inplace=True)"
   ]
  },
  {
   "cell_type": "code",
   "execution_count": 79,
   "metadata": {
    "id": "6XtaW2aDrBmC"
   },
   "outputs": [],
   "source": [
    "dict_mjob = {'Others':0,                           #replacing the string with values\n",
    "         'House wife':1,\n",
    "          'Service':2,\n",
    "           'Social siences':3}\n",
    "data[\"Mother's job\"].replace(dict_mjob,inplace=True)"
   ]
  },
  {
   "cell_type": "code",
   "execution_count": 80,
   "metadata": {
    "id": "DpbUQfQzu-bb"
   },
   "outputs": [],
   "source": [
    "dict_en = {'Below Average':0,                           #replacing the string with values\n",
    "         'Average':1,\n",
    "          'Good':2,\n",
    "           'Excellent':3\n",
    "           }\n",
    "data['English'].replace(dict_en,inplace=True)"
   ]
  },
  {
   "cell_type": "code",
   "execution_count": 81,
   "metadata": {
    "id": "l0sfos1lrBtA"
   },
   "outputs": [],
   "source": [
    "dict_as = {'Agree':3,                           #replacing the string with values\n",
    "         'Neither agree nor disagree':2,\n",
    "          'Strongly Agree':4,\n",
    "          'Disagree':1,\n",
    "           'Strongly disagree':0}\n",
    "data['Learning progress'].replace(dict_as,inplace=True)\n",
    "data['Learning habit maintenance'].replace(dict_as,inplace=True)\n",
    "data['Parent influence'].replace(dict_as,inplace=True)\n",
    "data['Sibling influence'].replace(dict_as,inplace=True)"
   ]
  },
  {
   "cell_type": "code",
   "execution_count": 82,
   "metadata": {
    "id": "uzhrncA9qBqS"
   },
   "outputs": [],
   "source": [
    "dict_tea = {'Agree':3,                           #replacing the string with values\n",
    "         'Neither agree nor disagree':2,\n",
    "          'Strongly agree':4,\n",
    "          'Disagree':1,\n",
    "           'Strongly disagree':0}\n",
    "\n",
    "data['Teacher influence'].replace(dict_tea,inplace=True)          "
   ]
  },
  {
   "cell_type": "code",
   "execution_count": 83,
   "metadata": {
    "id": "kr5bUR_7qCWM"
   },
   "outputs": [],
   "source": [
    "dict_as1 = {'Agree':3,                           #replacing the string with values\n",
    "         'Neither agree nor disagree':2,\n",
    "          'Strongly Agree':4,\n",
    "          'Disagree':1,\n",
    "           'Strongly disagree':0}\n",
    "\n",
    "data['Peer influence'].replace(dict_as1,inplace=True)\n",
    "data['Self-learning motivation'].replace(dict_as1,inplace=True)"
   ]
  },
  {
   "cell_type": "code",
   "execution_count": 84,
   "metadata": {
    "id": "i4Fhxti4qCBy"
   },
   "outputs": [],
   "source": [
    "dict_a = {'Agree':3,                           #replacing the string with values\n",
    "         'Neither agree nor disagree':2,\n",
    "          'Strongly Agree':4,\n",
    "          'Disagree':1,\n",
    "           'Strongly disagree':0}\n",
    "data['Concentration power'].replace(dict_a,inplace=True)\n",
    "data['Family support'].replace(dict_a,inplace=True)"
   ]
  },
  {
   "cell_type": "code",
   "execution_count": 85,
   "metadata": {
    "id": "vuXY8rSsqNZG"
   },
   "outputs": [],
   "source": [
    "dict_as2 = {'Agree':3,                           #replacing the string with values\n",
    "         'Neither agree nor disagree':2,\n",
    "          'Strongly Agree':4,\n",
    "          'Disagree':1,\n",
    "           'Strongly disagree':0}\n",
    "\n",
    "data['Effective learning environment'].replace(dict_as2,inplace=True)\n",
    "data['Daily learning objectives'].replace(dict_as2,inplace=True)\n",
    "data['Learning resources'].replace(dict_as2,inplace=True)\n",
    "data['Communication and collaboration with friends'].replace(dict_as2,inplace=True)"
   ]
  },
  {
   "cell_type": "code",
   "execution_count": 86,
   "metadata": {
    "colab": {
     "base_uri": "https://localhost:8080/",
     "height": 562
    },
    "id": "1c3gkhcLtZ7-",
    "outputId": "ed985229-3ee4-4386-8b34-3b8f126e4864"
   },
   "outputs": [
    {
     "data": {
      "text/html": [
       "<div>\n",
       "<style scoped>\n",
       "    .dataframe tbody tr th:only-of-type {\n",
       "        vertical-align: middle;\n",
       "    }\n",
       "\n",
       "    .dataframe tbody tr th {\n",
       "        vertical-align: top;\n",
       "    }\n",
       "\n",
       "    .dataframe thead th {\n",
       "        text-align: right;\n",
       "    }\n",
       "</style>\n",
       "<table border=\"1\" class=\"dataframe\">\n",
       "  <thead>\n",
       "    <tr style=\"text-align: right;\">\n",
       "      <th></th>\n",
       "      <th>Gender</th>\n",
       "      <th>Standard</th>\n",
       "      <th>Institute type</th>\n",
       "      <th>Siblings</th>\n",
       "      <th>Father's job</th>\n",
       "      <th>Mother's job</th>\n",
       "      <th>English</th>\n",
       "      <th>Learning progress</th>\n",
       "      <th>Learning habit maintenance</th>\n",
       "      <th>Teacher influence</th>\n",
       "      <th>Parent influence</th>\n",
       "      <th>Sibling influence</th>\n",
       "      <th>Peer influence</th>\n",
       "      <th>Self-learning motivation</th>\n",
       "      <th>Concentration power</th>\n",
       "      <th>Family support</th>\n",
       "      <th>Effective learning environment</th>\n",
       "      <th>Daily learning objectives</th>\n",
       "      <th>Learning resources</th>\n",
       "      <th>Communication and collaboration with friends</th>\n",
       "    </tr>\n",
       "  </thead>\n",
       "  <tbody>\n",
       "    <tr>\n",
       "      <th>0</th>\n",
       "      <td>1</td>\n",
       "      <td>2</td>\n",
       "      <td>0</td>\n",
       "      <td>3</td>\n",
       "      <td>1</td>\n",
       "      <td>2</td>\n",
       "      <td>3</td>\n",
       "      <td>3</td>\n",
       "      <td>1</td>\n",
       "      <td>3</td>\n",
       "      <td>3</td>\n",
       "      <td>3</td>\n",
       "      <td>3</td>\n",
       "      <td>3</td>\n",
       "      <td>3</td>\n",
       "      <td>3</td>\n",
       "      <td>3</td>\n",
       "      <td>3</td>\n",
       "      <td>3</td>\n",
       "      <td>3</td>\n",
       "    </tr>\n",
       "    <tr>\n",
       "      <th>1</th>\n",
       "      <td>0</td>\n",
       "      <td>2</td>\n",
       "      <td>1</td>\n",
       "      <td>0</td>\n",
       "      <td>2</td>\n",
       "      <td>0</td>\n",
       "      <td>2</td>\n",
       "      <td>3</td>\n",
       "      <td>3</td>\n",
       "      <td>3</td>\n",
       "      <td>3</td>\n",
       "      <td>3</td>\n",
       "      <td>3</td>\n",
       "      <td>3</td>\n",
       "      <td>3</td>\n",
       "      <td>3</td>\n",
       "      <td>3</td>\n",
       "      <td>3</td>\n",
       "      <td>3</td>\n",
       "      <td>3</td>\n",
       "    </tr>\n",
       "    <tr>\n",
       "      <th>2</th>\n",
       "      <td>1</td>\n",
       "      <td>2</td>\n",
       "      <td>1</td>\n",
       "      <td>1</td>\n",
       "      <td>2</td>\n",
       "      <td>1</td>\n",
       "      <td>2</td>\n",
       "      <td>2</td>\n",
       "      <td>3</td>\n",
       "      <td>3</td>\n",
       "      <td>3</td>\n",
       "      <td>3</td>\n",
       "      <td>2</td>\n",
       "      <td>3</td>\n",
       "      <td>3</td>\n",
       "      <td>4</td>\n",
       "      <td>3</td>\n",
       "      <td>4</td>\n",
       "      <td>3</td>\n",
       "      <td>3</td>\n",
       "    </tr>\n",
       "    <tr>\n",
       "      <th>3</th>\n",
       "      <td>1</td>\n",
       "      <td>2</td>\n",
       "      <td>1</td>\n",
       "      <td>1</td>\n",
       "      <td>1</td>\n",
       "      <td>1</td>\n",
       "      <td>1</td>\n",
       "      <td>2</td>\n",
       "      <td>2</td>\n",
       "      <td>4</td>\n",
       "      <td>4</td>\n",
       "      <td>4</td>\n",
       "      <td>4</td>\n",
       "      <td>3</td>\n",
       "      <td>2</td>\n",
       "      <td>4</td>\n",
       "      <td>3</td>\n",
       "      <td>3</td>\n",
       "      <td>4</td>\n",
       "      <td>4</td>\n",
       "    </tr>\n",
       "    <tr>\n",
       "      <th>4</th>\n",
       "      <td>0</td>\n",
       "      <td>2</td>\n",
       "      <td>1</td>\n",
       "      <td>1</td>\n",
       "      <td>2</td>\n",
       "      <td>1</td>\n",
       "      <td>2</td>\n",
       "      <td>3</td>\n",
       "      <td>2</td>\n",
       "      <td>0</td>\n",
       "      <td>3</td>\n",
       "      <td>3</td>\n",
       "      <td>0</td>\n",
       "      <td>1</td>\n",
       "      <td>3</td>\n",
       "      <td>3</td>\n",
       "      <td>3</td>\n",
       "      <td>2</td>\n",
       "      <td>3</td>\n",
       "      <td>1</td>\n",
       "    </tr>\n",
       "    <tr>\n",
       "      <th>5</th>\n",
       "      <td>1</td>\n",
       "      <td>2</td>\n",
       "      <td>1</td>\n",
       "      <td>2</td>\n",
       "      <td>2</td>\n",
       "      <td>1</td>\n",
       "      <td>2</td>\n",
       "      <td>2</td>\n",
       "      <td>3</td>\n",
       "      <td>2</td>\n",
       "      <td>3</td>\n",
       "      <td>3</td>\n",
       "      <td>3</td>\n",
       "      <td>3</td>\n",
       "      <td>3</td>\n",
       "      <td>2</td>\n",
       "      <td>2</td>\n",
       "      <td>2</td>\n",
       "      <td>1</td>\n",
       "      <td>2</td>\n",
       "    </tr>\n",
       "    <tr>\n",
       "      <th>6</th>\n",
       "      <td>0</td>\n",
       "      <td>2</td>\n",
       "      <td>1</td>\n",
       "      <td>2</td>\n",
       "      <td>2</td>\n",
       "      <td>1</td>\n",
       "      <td>2</td>\n",
       "      <td>3</td>\n",
       "      <td>2</td>\n",
       "      <td>3</td>\n",
       "      <td>4</td>\n",
       "      <td>3</td>\n",
       "      <td>3</td>\n",
       "      <td>4</td>\n",
       "      <td>3</td>\n",
       "      <td>4</td>\n",
       "      <td>3</td>\n",
       "      <td>3</td>\n",
       "      <td>3</td>\n",
       "      <td>2</td>\n",
       "    </tr>\n",
       "    <tr>\n",
       "      <th>7</th>\n",
       "      <td>0</td>\n",
       "      <td>2</td>\n",
       "      <td>1</td>\n",
       "      <td>1</td>\n",
       "      <td>2</td>\n",
       "      <td>2</td>\n",
       "      <td>1</td>\n",
       "      <td>3</td>\n",
       "      <td>3</td>\n",
       "      <td>3</td>\n",
       "      <td>3</td>\n",
       "      <td>3</td>\n",
       "      <td>3</td>\n",
       "      <td>3</td>\n",
       "      <td>3</td>\n",
       "      <td>3</td>\n",
       "      <td>3</td>\n",
       "      <td>3</td>\n",
       "      <td>3</td>\n",
       "      <td>3</td>\n",
       "    </tr>\n",
       "    <tr>\n",
       "      <th>8</th>\n",
       "      <td>1</td>\n",
       "      <td>2</td>\n",
       "      <td>1</td>\n",
       "      <td>1</td>\n",
       "      <td>2</td>\n",
       "      <td>1</td>\n",
       "      <td>1</td>\n",
       "      <td>3</td>\n",
       "      <td>3</td>\n",
       "      <td>3</td>\n",
       "      <td>3</td>\n",
       "      <td>3</td>\n",
       "      <td>3</td>\n",
       "      <td>3</td>\n",
       "      <td>3</td>\n",
       "      <td>3</td>\n",
       "      <td>3</td>\n",
       "      <td>3</td>\n",
       "      <td>3</td>\n",
       "      <td>3</td>\n",
       "    </tr>\n",
       "    <tr>\n",
       "      <th>9</th>\n",
       "      <td>0</td>\n",
       "      <td>2</td>\n",
       "      <td>1</td>\n",
       "      <td>1</td>\n",
       "      <td>1</td>\n",
       "      <td>1</td>\n",
       "      <td>2</td>\n",
       "      <td>3</td>\n",
       "      <td>3</td>\n",
       "      <td>3</td>\n",
       "      <td>4</td>\n",
       "      <td>3</td>\n",
       "      <td>3</td>\n",
       "      <td>3</td>\n",
       "      <td>3</td>\n",
       "      <td>4</td>\n",
       "      <td>4</td>\n",
       "      <td>4</td>\n",
       "      <td>4</td>\n",
       "      <td>4</td>\n",
       "    </tr>\n",
       "    <tr>\n",
       "      <th>10</th>\n",
       "      <td>0</td>\n",
       "      <td>2</td>\n",
       "      <td>1</td>\n",
       "      <td>1</td>\n",
       "      <td>2</td>\n",
       "      <td>1</td>\n",
       "      <td>2</td>\n",
       "      <td>3</td>\n",
       "      <td>3</td>\n",
       "      <td>4</td>\n",
       "      <td>4</td>\n",
       "      <td>3</td>\n",
       "      <td>3</td>\n",
       "      <td>3</td>\n",
       "      <td>2</td>\n",
       "      <td>4</td>\n",
       "      <td>3</td>\n",
       "      <td>2</td>\n",
       "      <td>3</td>\n",
       "      <td>3</td>\n",
       "    </tr>\n",
       "    <tr>\n",
       "      <th>11</th>\n",
       "      <td>0</td>\n",
       "      <td>2</td>\n",
       "      <td>1</td>\n",
       "      <td>1</td>\n",
       "      <td>1</td>\n",
       "      <td>1</td>\n",
       "      <td>2</td>\n",
       "      <td>3</td>\n",
       "      <td>3</td>\n",
       "      <td>3</td>\n",
       "      <td>4</td>\n",
       "      <td>2</td>\n",
       "      <td>2</td>\n",
       "      <td>3</td>\n",
       "      <td>2</td>\n",
       "      <td>4</td>\n",
       "      <td>4</td>\n",
       "      <td>3</td>\n",
       "      <td>3</td>\n",
       "      <td>1</td>\n",
       "    </tr>\n",
       "    <tr>\n",
       "      <th>12</th>\n",
       "      <td>0</td>\n",
       "      <td>2</td>\n",
       "      <td>1</td>\n",
       "      <td>4</td>\n",
       "      <td>2</td>\n",
       "      <td>1</td>\n",
       "      <td>1</td>\n",
       "      <td>3</td>\n",
       "      <td>3</td>\n",
       "      <td>4</td>\n",
       "      <td>4</td>\n",
       "      <td>3</td>\n",
       "      <td>2</td>\n",
       "      <td>3</td>\n",
       "      <td>3</td>\n",
       "      <td>3</td>\n",
       "      <td>3</td>\n",
       "      <td>3</td>\n",
       "      <td>3</td>\n",
       "      <td>2</td>\n",
       "    </tr>\n",
       "    <tr>\n",
       "      <th>13</th>\n",
       "      <td>0</td>\n",
       "      <td>2</td>\n",
       "      <td>0</td>\n",
       "      <td>0</td>\n",
       "      <td>2</td>\n",
       "      <td>1</td>\n",
       "      <td>2</td>\n",
       "      <td>4</td>\n",
       "      <td>4</td>\n",
       "      <td>2</td>\n",
       "      <td>3</td>\n",
       "      <td>2</td>\n",
       "      <td>2</td>\n",
       "      <td>3</td>\n",
       "      <td>3</td>\n",
       "      <td>4</td>\n",
       "      <td>3</td>\n",
       "      <td>3</td>\n",
       "      <td>3</td>\n",
       "      <td>3</td>\n",
       "    </tr>\n",
       "    <tr>\n",
       "      <th>14</th>\n",
       "      <td>0</td>\n",
       "      <td>2</td>\n",
       "      <td>1</td>\n",
       "      <td>1</td>\n",
       "      <td>1</td>\n",
       "      <td>1</td>\n",
       "      <td>2</td>\n",
       "      <td>2</td>\n",
       "      <td>1</td>\n",
       "      <td>4</td>\n",
       "      <td>4</td>\n",
       "      <td>3</td>\n",
       "      <td>0</td>\n",
       "      <td>4</td>\n",
       "      <td>3</td>\n",
       "      <td>4</td>\n",
       "      <td>2</td>\n",
       "      <td>2</td>\n",
       "      <td>3</td>\n",
       "      <td>3</td>\n",
       "    </tr>\n",
       "  </tbody>\n",
       "</table>\n",
       "</div>"
      ],
      "text/plain": [
       "    Gender  Standard  Institute type  Siblings  Father's job  Mother's job  \\\n",
       "0        1         2               0         3             1             2   \n",
       "1        0         2               1         0             2             0   \n",
       "2        1         2               1         1             2             1   \n",
       "3        1         2               1         1             1             1   \n",
       "4        0         2               1         1             2             1   \n",
       "5        1         2               1         2             2             1   \n",
       "6        0         2               1         2             2             1   \n",
       "7        0         2               1         1             2             2   \n",
       "8        1         2               1         1             2             1   \n",
       "9        0         2               1         1             1             1   \n",
       "10       0         2               1         1             2             1   \n",
       "11       0         2               1         1             1             1   \n",
       "12       0         2               1         4             2             1   \n",
       "13       0         2               0         0             2             1   \n",
       "14       0         2               1         1             1             1   \n",
       "\n",
       "    English  Learning progress  Learning habit maintenance  Teacher influence  \\\n",
       "0         3                  3                           1                  3   \n",
       "1         2                  3                           3                  3   \n",
       "2         2                  2                           3                  3   \n",
       "3         1                  2                           2                  4   \n",
       "4         2                  3                           2                  0   \n",
       "5         2                  2                           3                  2   \n",
       "6         2                  3                           2                  3   \n",
       "7         1                  3                           3                  3   \n",
       "8         1                  3                           3                  3   \n",
       "9         2                  3                           3                  3   \n",
       "10        2                  3                           3                  4   \n",
       "11        2                  3                           3                  3   \n",
       "12        1                  3                           3                  4   \n",
       "13        2                  4                           4                  2   \n",
       "14        2                  2                           1                  4   \n",
       "\n",
       "    Parent influence  Sibling influence  Peer influence  \\\n",
       "0                  3                  3               3   \n",
       "1                  3                  3               3   \n",
       "2                  3                  3               2   \n",
       "3                  4                  4               4   \n",
       "4                  3                  3               0   \n",
       "5                  3                  3               3   \n",
       "6                  4                  3               3   \n",
       "7                  3                  3               3   \n",
       "8                  3                  3               3   \n",
       "9                  4                  3               3   \n",
       "10                 4                  3               3   \n",
       "11                 4                  2               2   \n",
       "12                 4                  3               2   \n",
       "13                 3                  2               2   \n",
       "14                 4                  3               0   \n",
       "\n",
       "    Self-learning motivation Concentration power  Family support  \\\n",
       "0                          3                   3               3   \n",
       "1                          3                   3               3   \n",
       "2                          3                   3               4   \n",
       "3                          3                   2               4   \n",
       "4                          1                   3               3   \n",
       "5                          3                   3               2   \n",
       "6                          4                   3               4   \n",
       "7                          3                   3               3   \n",
       "8                          3                   3               3   \n",
       "9                          3                   3               4   \n",
       "10                         3                   2               4   \n",
       "11                         3                   2               4   \n",
       "12                         3                   3               3   \n",
       "13                         3                   3               4   \n",
       "14                         4                   3               4   \n",
       "\n",
       "    Effective learning environment  Daily learning objectives  \\\n",
       "0                                3                          3   \n",
       "1                                3                          3   \n",
       "2                                3                          4   \n",
       "3                                3                          3   \n",
       "4                                3                          2   \n",
       "5                                2                          2   \n",
       "6                                3                          3   \n",
       "7                                3                          3   \n",
       "8                                3                          3   \n",
       "9                                4                          4   \n",
       "10                               3                          2   \n",
       "11                               4                          3   \n",
       "12                               3                          3   \n",
       "13                               3                          3   \n",
       "14                               2                          2   \n",
       "\n",
       "    Learning resources  Communication and collaboration with friends  \n",
       "0                    3                                             3  \n",
       "1                    3                                             3  \n",
       "2                    3                                             3  \n",
       "3                    4                                             4  \n",
       "4                    3                                             1  \n",
       "5                    1                                             2  \n",
       "6                    3                                             2  \n",
       "7                    3                                             3  \n",
       "8                    3                                             3  \n",
       "9                    4                                             4  \n",
       "10                   3                                             3  \n",
       "11                   3                                             1  \n",
       "12                   3                                             2  \n",
       "13                   3                                             3  \n",
       "14                   3                                             3  "
      ]
     },
     "execution_count": 86,
     "metadata": {},
     "output_type": "execute_result"
    }
   ],
   "source": [
    "data.head(15)"
   ]
  },
  {
   "cell_type": "code",
   "execution_count": 87,
   "metadata": {
    "colab": {
     "base_uri": "https://localhost:8080/",
     "height": 84
    },
    "id": "2yTXhzQxaXFe",
    "outputId": "4f4ecd65-b951-426d-e42e-7449629fd644"
   },
   "outputs": [
    {
     "data": {
      "text/plain": [
       "1    490\n",
       "0    136\n",
       "2      6\n",
       "Name: Institute type, dtype: int64"
      ]
     },
     "execution_count": 87,
     "metadata": {},
     "output_type": "execute_result"
    }
   ],
   "source": [
    "data['Institute type'].value_counts()"
   ]
  },
  {
   "cell_type": "code",
   "execution_count": 88,
   "metadata": {
    "colab": {
     "base_uri": "https://localhost:8080/",
     "height": 118
    },
    "id": "u0o6pHkOt6l5",
    "outputId": "c3ab5f80-9026-4eab-ed6d-91729a75f36d"
   },
   "outputs": [
    {
     "data": {
      "text/plain": [
       "0    363\n",
       "1    269\n",
       "Name: Gender, dtype: int64"
      ]
     },
     "execution_count": 88,
     "metadata": {},
     "output_type": "execute_result"
    }
   ],
   "source": [
    "data['Gender'].value_counts()"
   ]
  },
  {
   "cell_type": "code",
   "execution_count": 89,
   "metadata": {},
   "outputs": [
    {
     "data": {
      "text/plain": [
       "2    614\n",
       "0     11\n",
       "1      7\n",
       "Name: Standard, dtype: int64"
      ]
     },
     "execution_count": 89,
     "metadata": {},
     "output_type": "execute_result"
    }
   ],
   "source": [
    "data['Standard'].value_counts()"
   ]
  },
  {
   "cell_type": "code",
   "execution_count": 90,
   "metadata": {},
   "outputs": [
    {
     "data": {
      "text/plain": [
       "1    490\n",
       "0    136\n",
       "2      6\n",
       "Name: Institute type, dtype: int64"
      ]
     },
     "execution_count": 90,
     "metadata": {},
     "output_type": "execute_result"
    }
   ],
   "source": [
    "data['Institute type'].value_counts()"
   ]
  },
  {
   "cell_type": "code",
   "execution_count": 91,
   "metadata": {},
   "outputs": [
    {
     "data": {
      "text/plain": [
       "1    362\n",
       "0    114\n",
       "2    111\n",
       "3     32\n",
       "4     13\n",
       "Name: Siblings, dtype: int64"
      ]
     },
     "execution_count": 91,
     "metadata": {},
     "output_type": "execute_result"
    }
   ],
   "source": [
    "data['Siblings'].value_counts()"
   ]
  },
  {
   "cell_type": "code",
   "execution_count": 92,
   "metadata": {},
   "outputs": [
    {
     "data": {
      "text/plain": [
       "1    368\n",
       "2    223\n",
       "0     39\n",
       "3      2\n",
       "Name: Father's job, dtype: int64"
      ]
     },
     "execution_count": 92,
     "metadata": {},
     "output_type": "execute_result"
    }
   ],
   "source": [
    "data[\"Father's job\"].value_counts()"
   ]
  },
  {
   "cell_type": "code",
   "execution_count": 93,
   "metadata": {},
   "outputs": [
    {
     "data": {
      "text/plain": [
       "1    504\n",
       "2    102\n",
       "0     23\n",
       "3      3\n",
       "Name: Mother's job, dtype: int64"
      ]
     },
     "execution_count": 93,
     "metadata": {},
     "output_type": "execute_result"
    }
   ],
   "source": [
    "data[\"Mother's job\"].value_counts()"
   ]
  },
  {
   "cell_type": "code",
   "execution_count": 94,
   "metadata": {},
   "outputs": [
    {
     "data": {
      "text/plain": [
       "2    353\n",
       "1    158\n",
       "3    112\n",
       "0      9\n",
       "Name: English, dtype: int64"
      ]
     },
     "execution_count": 94,
     "metadata": {},
     "output_type": "execute_result"
    }
   ],
   "source": [
    "data['English'].value_counts()"
   ]
  },
  {
   "cell_type": "code",
   "execution_count": 95,
   "metadata": {},
   "outputs": [
    {
     "data": {
      "text/plain": [
       "3    336\n",
       "2    156\n",
       "4     66\n",
       "1     44\n",
       "0     30\n",
       "Name: Learning progress, dtype: int64"
      ]
     },
     "execution_count": 95,
     "metadata": {},
     "output_type": "execute_result"
    }
   ],
   "source": [
    "data['Learning progress'].value_counts()"
   ]
  },
  {
   "cell_type": "code",
   "execution_count": 96,
   "metadata": {},
   "outputs": [
    {
     "data": {
      "text/plain": [
       "3    357\n",
       "2    110\n",
       "4     71\n",
       "1     63\n",
       "0     31\n",
       "Name: Learning habit maintenance, dtype: int64"
      ]
     },
     "execution_count": 96,
     "metadata": {},
     "output_type": "execute_result"
    }
   ],
   "source": [
    "data['Learning habit maintenance'].value_counts()"
   ]
  },
  {
   "cell_type": "code",
   "execution_count": 97,
   "metadata": {},
   "outputs": [
    {
     "data": {
      "text/plain": [
       "3    357\n",
       "2    132\n",
       "4     76\n",
       "1     41\n",
       "0     26\n",
       "Name: Teacher influence, dtype: int64"
      ]
     },
     "execution_count": 97,
     "metadata": {},
     "output_type": "execute_result"
    }
   ],
   "source": [
    "data['Teacher influence'].value_counts()"
   ]
  },
  {
   "cell_type": "code",
   "execution_count": 98,
   "metadata": {},
   "outputs": [
    {
     "data": {
      "text/plain": [
       "3    358\n",
       "4    125\n",
       "2    113\n",
       "1     22\n",
       "0     14\n",
       "Name: Parent influence, dtype: int64"
      ]
     },
     "execution_count": 98,
     "metadata": {},
     "output_type": "execute_result"
    }
   ],
   "source": [
    "data['Parent influence'].value_counts()"
   ]
  },
  {
   "cell_type": "code",
   "execution_count": 99,
   "metadata": {},
   "outputs": [
    {
     "data": {
      "text/plain": [
       "3    294\n",
       "2    202\n",
       "4     67\n",
       "1     50\n",
       "0     19\n",
       "Name: Sibling influence, dtype: int64"
      ]
     },
     "execution_count": 99,
     "metadata": {},
     "output_type": "execute_result"
    }
   ],
   "source": [
    "data['Sibling influence'].value_counts()"
   ]
  },
  {
   "cell_type": "code",
   "execution_count": 100,
   "metadata": {},
   "outputs": [
    {
     "data": {
      "text/plain": [
       "3    303\n",
       "2    183\n",
       "1     59\n",
       "4     58\n",
       "0     29\n",
       "Name: Peer influence, dtype: int64"
      ]
     },
     "execution_count": 100,
     "metadata": {},
     "output_type": "execute_result"
    }
   ],
   "source": [
    "data['Peer influence'].value_counts()"
   ]
  },
  {
   "cell_type": "code",
   "execution_count": 101,
   "metadata": {},
   "outputs": [
    {
     "data": {
      "text/plain": [
       "3    370\n",
       "4    116\n",
       "2     91\n",
       "1     35\n",
       "0     20\n",
       "Name: Self-learning motivation, dtype: int64"
      ]
     },
     "execution_count": 101,
     "metadata": {},
     "output_type": "execute_result"
    }
   ],
   "source": [
    "data['Self-learning motivation'].value_counts()"
   ]
  },
  {
   "cell_type": "code",
   "execution_count": 102,
   "metadata": {},
   "outputs": [
    {
     "data": {
      "text/plain": [
       "3    338\n",
       "4    217\n",
       "2     53\n",
       "1     12\n",
       "0     12\n",
       "Name: Family support, dtype: int64"
      ]
     },
     "execution_count": 102,
     "metadata": {},
     "output_type": "execute_result"
    }
   ],
   "source": [
    "data['Family support'].value_counts()"
   ]
  },
  {
   "cell_type": "code",
   "execution_count": 103,
   "metadata": {},
   "outputs": [
    {
     "data": {
      "text/plain": [
       "3    341\n",
       "2    156\n",
       "4     58\n",
       "1     56\n",
       "0     21\n",
       "Name: Daily learning objectives, dtype: int64"
      ]
     },
     "execution_count": 103,
     "metadata": {},
     "output_type": "execute_result"
    }
   ],
   "source": [
    "data['Daily learning objectives'].value_counts()"
   ]
  },
  {
   "cell_type": "code",
   "execution_count": 104,
   "metadata": {},
   "outputs": [
    {
     "data": {
      "text/plain": [
       "3    371\n",
       "2    104\n",
       "4     89\n",
       "1     44\n",
       "0     24\n",
       "Name: Communication and collaboration with friends, dtype: int64"
      ]
     },
     "execution_count": 104,
     "metadata": {},
     "output_type": "execute_result"
    }
   ],
   "source": [
    "data['Communication and collaboration with friends'].value_counts()"
   ]
  },
  {
   "cell_type": "markdown",
   "metadata": {},
   "source": [
    "# Count, Std dev, and mean"
   ]
  },
  {
   "cell_type": "code",
   "execution_count": 105,
   "metadata": {
    "colab": {
     "base_uri": "https://localhost:8080/",
     "height": 354
    },
    "id": "L5PCCp9COupK",
    "outputId": "e7361cef-784c-45bc-fe96-b6f2446daeaf",
    "scrolled": true
   },
   "outputs": [
    {
     "data": {
      "text/html": [
       "<div>\n",
       "<style scoped>\n",
       "    .dataframe tbody tr th:only-of-type {\n",
       "        vertical-align: middle;\n",
       "    }\n",
       "\n",
       "    .dataframe tbody tr th {\n",
       "        vertical-align: top;\n",
       "    }\n",
       "\n",
       "    .dataframe thead th {\n",
       "        text-align: right;\n",
       "    }\n",
       "</style>\n",
       "<table border=\"1\" class=\"dataframe\">\n",
       "  <thead>\n",
       "    <tr style=\"text-align: right;\">\n",
       "      <th></th>\n",
       "      <th>Gender</th>\n",
       "      <th>Standard</th>\n",
       "      <th>Institute type</th>\n",
       "      <th>Siblings</th>\n",
       "      <th>Father's job</th>\n",
       "      <th>Mother's job</th>\n",
       "      <th>English</th>\n",
       "      <th>Learning progress</th>\n",
       "      <th>Learning habit maintenance</th>\n",
       "      <th>Teacher influence</th>\n",
       "      <th>Parent influence</th>\n",
       "      <th>Sibling influence</th>\n",
       "      <th>Peer influence</th>\n",
       "      <th>Self-learning motivation</th>\n",
       "      <th>Family support</th>\n",
       "      <th>Effective learning environment</th>\n",
       "      <th>Daily learning objectives</th>\n",
       "      <th>Learning resources</th>\n",
       "      <th>Communication and collaboration with friends</th>\n",
       "    </tr>\n",
       "  </thead>\n",
       "  <tbody>\n",
       "    <tr>\n",
       "      <th>count</th>\n",
       "      <td>632.000000</td>\n",
       "      <td>632.000000</td>\n",
       "      <td>632.000000</td>\n",
       "      <td>632.000000</td>\n",
       "      <td>632.000000</td>\n",
       "      <td>632.000000</td>\n",
       "      <td>632.000000</td>\n",
       "      <td>632.000000</td>\n",
       "      <td>632.000000</td>\n",
       "      <td>632.000000</td>\n",
       "      <td>632.000000</td>\n",
       "      <td>632.000000</td>\n",
       "      <td>632.000000</td>\n",
       "      <td>632.000000</td>\n",
       "      <td>632.000000</td>\n",
       "      <td>632.000000</td>\n",
       "      <td>632.000000</td>\n",
       "      <td>632.000000</td>\n",
       "      <td>632.000000</td>\n",
       "    </tr>\n",
       "    <tr>\n",
       "      <th>mean</th>\n",
       "      <td>0.425633</td>\n",
       "      <td>1.954114</td>\n",
       "      <td>0.794304</td>\n",
       "      <td>1.158228</td>\n",
       "      <td>1.297468</td>\n",
       "      <td>1.134494</td>\n",
       "      <td>1.898734</td>\n",
       "      <td>2.575949</td>\n",
       "      <td>2.591772</td>\n",
       "      <td>2.658228</td>\n",
       "      <td>2.882911</td>\n",
       "      <td>2.537975</td>\n",
       "      <td>2.477848</td>\n",
       "      <td>2.833861</td>\n",
       "      <td>3.164557</td>\n",
       "      <td>2.650316</td>\n",
       "      <td>2.568038</td>\n",
       "      <td>2.737342</td>\n",
       "      <td>2.723101</td>\n",
       "    </tr>\n",
       "    <tr>\n",
       "      <th>std</th>\n",
       "      <td>0.494830</td>\n",
       "      <td>0.280562</td>\n",
       "      <td>0.427389</td>\n",
       "      <td>0.848395</td>\n",
       "      <td>0.582464</td>\n",
       "      <td>0.446092</td>\n",
       "      <td>0.688966</td>\n",
       "      <td>0.937301</td>\n",
       "      <td>0.980537</td>\n",
       "      <td>0.918361</td>\n",
       "      <td>0.838208</td>\n",
       "      <td>0.894683</td>\n",
       "      <td>0.946835</td>\n",
       "      <td>0.898630</td>\n",
       "      <td>0.804983</td>\n",
       "      <td>0.966737</td>\n",
       "      <td>0.898206</td>\n",
       "      <td>0.950768</td>\n",
       "      <td>0.922120</td>\n",
       "    </tr>\n",
       "    <tr>\n",
       "      <th>min</th>\n",
       "      <td>0.000000</td>\n",
       "      <td>0.000000</td>\n",
       "      <td>0.000000</td>\n",
       "      <td>0.000000</td>\n",
       "      <td>0.000000</td>\n",
       "      <td>0.000000</td>\n",
       "      <td>0.000000</td>\n",
       "      <td>0.000000</td>\n",
       "      <td>0.000000</td>\n",
       "      <td>0.000000</td>\n",
       "      <td>0.000000</td>\n",
       "      <td>0.000000</td>\n",
       "      <td>0.000000</td>\n",
       "      <td>0.000000</td>\n",
       "      <td>0.000000</td>\n",
       "      <td>0.000000</td>\n",
       "      <td>0.000000</td>\n",
       "      <td>0.000000</td>\n",
       "      <td>0.000000</td>\n",
       "    </tr>\n",
       "    <tr>\n",
       "      <th>25%</th>\n",
       "      <td>0.000000</td>\n",
       "      <td>2.000000</td>\n",
       "      <td>1.000000</td>\n",
       "      <td>1.000000</td>\n",
       "      <td>1.000000</td>\n",
       "      <td>1.000000</td>\n",
       "      <td>1.000000</td>\n",
       "      <td>2.000000</td>\n",
       "      <td>2.000000</td>\n",
       "      <td>2.000000</td>\n",
       "      <td>3.000000</td>\n",
       "      <td>2.000000</td>\n",
       "      <td>2.000000</td>\n",
       "      <td>3.000000</td>\n",
       "      <td>3.000000</td>\n",
       "      <td>2.000000</td>\n",
       "      <td>2.000000</td>\n",
       "      <td>2.000000</td>\n",
       "      <td>2.000000</td>\n",
       "    </tr>\n",
       "    <tr>\n",
       "      <th>50%</th>\n",
       "      <td>0.000000</td>\n",
       "      <td>2.000000</td>\n",
       "      <td>1.000000</td>\n",
       "      <td>1.000000</td>\n",
       "      <td>1.000000</td>\n",
       "      <td>1.000000</td>\n",
       "      <td>2.000000</td>\n",
       "      <td>3.000000</td>\n",
       "      <td>3.000000</td>\n",
       "      <td>3.000000</td>\n",
       "      <td>3.000000</td>\n",
       "      <td>3.000000</td>\n",
       "      <td>3.000000</td>\n",
       "      <td>3.000000</td>\n",
       "      <td>3.000000</td>\n",
       "      <td>3.000000</td>\n",
       "      <td>3.000000</td>\n",
       "      <td>3.000000</td>\n",
       "      <td>3.000000</td>\n",
       "    </tr>\n",
       "    <tr>\n",
       "      <th>75%</th>\n",
       "      <td>1.000000</td>\n",
       "      <td>2.000000</td>\n",
       "      <td>1.000000</td>\n",
       "      <td>1.000000</td>\n",
       "      <td>2.000000</td>\n",
       "      <td>1.000000</td>\n",
       "      <td>2.000000</td>\n",
       "      <td>3.000000</td>\n",
       "      <td>3.000000</td>\n",
       "      <td>3.000000</td>\n",
       "      <td>3.000000</td>\n",
       "      <td>3.000000</td>\n",
       "      <td>3.000000</td>\n",
       "      <td>3.000000</td>\n",
       "      <td>4.000000</td>\n",
       "      <td>3.000000</td>\n",
       "      <td>3.000000</td>\n",
       "      <td>3.000000</td>\n",
       "      <td>3.000000</td>\n",
       "    </tr>\n",
       "    <tr>\n",
       "      <th>max</th>\n",
       "      <td>1.000000</td>\n",
       "      <td>2.000000</td>\n",
       "      <td>2.000000</td>\n",
       "      <td>4.000000</td>\n",
       "      <td>3.000000</td>\n",
       "      <td>3.000000</td>\n",
       "      <td>3.000000</td>\n",
       "      <td>4.000000</td>\n",
       "      <td>4.000000</td>\n",
       "      <td>4.000000</td>\n",
       "      <td>4.000000</td>\n",
       "      <td>4.000000</td>\n",
       "      <td>4.000000</td>\n",
       "      <td>4.000000</td>\n",
       "      <td>4.000000</td>\n",
       "      <td>4.000000</td>\n",
       "      <td>4.000000</td>\n",
       "      <td>4.000000</td>\n",
       "      <td>4.000000</td>\n",
       "    </tr>\n",
       "  </tbody>\n",
       "</table>\n",
       "</div>"
      ],
      "text/plain": [
       "           Gender    Standard  Institute type    Siblings  Father's job  \\\n",
       "count  632.000000  632.000000      632.000000  632.000000    632.000000   \n",
       "mean     0.425633    1.954114        0.794304    1.158228      1.297468   \n",
       "std      0.494830    0.280562        0.427389    0.848395      0.582464   \n",
       "min      0.000000    0.000000        0.000000    0.000000      0.000000   \n",
       "25%      0.000000    2.000000        1.000000    1.000000      1.000000   \n",
       "50%      0.000000    2.000000        1.000000    1.000000      1.000000   \n",
       "75%      1.000000    2.000000        1.000000    1.000000      2.000000   \n",
       "max      1.000000    2.000000        2.000000    4.000000      3.000000   \n",
       "\n",
       "       Mother's job     English  Learning progress  \\\n",
       "count    632.000000  632.000000         632.000000   \n",
       "mean       1.134494    1.898734           2.575949   \n",
       "std        0.446092    0.688966           0.937301   \n",
       "min        0.000000    0.000000           0.000000   \n",
       "25%        1.000000    1.000000           2.000000   \n",
       "50%        1.000000    2.000000           3.000000   \n",
       "75%        1.000000    2.000000           3.000000   \n",
       "max        3.000000    3.000000           4.000000   \n",
       "\n",
       "       Learning habit maintenance  Teacher influence  Parent influence  \\\n",
       "count                  632.000000         632.000000        632.000000   \n",
       "mean                     2.591772           2.658228          2.882911   \n",
       "std                      0.980537           0.918361          0.838208   \n",
       "min                      0.000000           0.000000          0.000000   \n",
       "25%                      2.000000           2.000000          3.000000   \n",
       "50%                      3.000000           3.000000          3.000000   \n",
       "75%                      3.000000           3.000000          3.000000   \n",
       "max                      4.000000           4.000000          4.000000   \n",
       "\n",
       "       Sibling influence  Peer influence  Self-learning motivation  \\\n",
       "count         632.000000      632.000000                632.000000   \n",
       "mean            2.537975        2.477848                  2.833861   \n",
       "std             0.894683        0.946835                  0.898630   \n",
       "min             0.000000        0.000000                  0.000000   \n",
       "25%             2.000000        2.000000                  3.000000   \n",
       "50%             3.000000        3.000000                  3.000000   \n",
       "75%             3.000000        3.000000                  3.000000   \n",
       "max             4.000000        4.000000                  4.000000   \n",
       "\n",
       "       Family support  Effective learning environment  \\\n",
       "count      632.000000                      632.000000   \n",
       "mean         3.164557                        2.650316   \n",
       "std          0.804983                        0.966737   \n",
       "min          0.000000                        0.000000   \n",
       "25%          3.000000                        2.000000   \n",
       "50%          3.000000                        3.000000   \n",
       "75%          4.000000                        3.000000   \n",
       "max          4.000000                        4.000000   \n",
       "\n",
       "       Daily learning objectives  Learning resources  \\\n",
       "count                 632.000000          632.000000   \n",
       "mean                    2.568038            2.737342   \n",
       "std                     0.898206            0.950768   \n",
       "min                     0.000000            0.000000   \n",
       "25%                     2.000000            2.000000   \n",
       "50%                     3.000000            3.000000   \n",
       "75%                     3.000000            3.000000   \n",
       "max                     4.000000            4.000000   \n",
       "\n",
       "       Communication and collaboration with friends  \n",
       "count                                    632.000000  \n",
       "mean                                       2.723101  \n",
       "std                                        0.922120  \n",
       "min                                        0.000000  \n",
       "25%                                        2.000000  \n",
       "50%                                        3.000000  \n",
       "75%                                        3.000000  \n",
       "max                                        4.000000  "
      ]
     },
     "execution_count": 105,
     "metadata": {},
     "output_type": "execute_result"
    }
   ],
   "source": [
    "data.describe()"
   ]
  },
  {
   "cell_type": "markdown",
   "metadata": {},
   "source": [
    "# Std error for mean"
   ]
  },
  {
   "cell_type": "code",
   "execution_count": 106,
   "metadata": {
    "colab": {
     "base_uri": "https://localhost:8080/",
     "height": 353
    },
    "id": "TfwkIhC7Kc-k",
    "outputId": "b268918e-d326-4bc9-f146-d6e34635619d",
    "scrolled": true
   },
   "outputs": [
    {
     "data": {
      "text/plain": [
       "Gender                                          0.019683\n",
       "Standard                                        0.011160\n",
       "Institute type                                  0.017001\n",
       "Siblings                                        0.033747\n",
       "Father's job                                    0.023169\n",
       "Mother's job                                    0.017745\n",
       "English                                         0.027406\n",
       "Learning progress                               0.037284\n",
       "Learning habit maintenance                      0.039004\n",
       "Teacher influence                               0.036530\n",
       "Parent influence                                0.033342\n",
       "Sibling influence                               0.035589\n",
       "Peer influence                                  0.037663\n",
       "Self-learning motivation                        0.035746\n",
       "Family support                                  0.032020\n",
       "Effective learning environment                  0.038455\n",
       "Daily learning objectives                       0.035729\n",
       "Learning resources                              0.037820\n",
       "Communication and collaboration with friends    0.036680\n",
       "dtype: float64"
      ]
     },
     "execution_count": 106,
     "metadata": {},
     "output_type": "execute_result"
    }
   ],
   "source": [
    "data.sem(axis=0)  #standard error for mean"
   ]
  },
  {
   "cell_type": "markdown",
   "metadata": {},
   "source": [
    "# 95% Confidence Interval"
   ]
  },
  {
   "cell_type": "code",
   "execution_count": 107,
   "metadata": {},
   "outputs": [
    {
     "data": {
      "text/plain": [
       "(0.387054371584617, 0.46421145120019314)"
      ]
     },
     "execution_count": 107,
     "metadata": {},
     "output_type": "execute_result"
    }
   ],
   "source": [
    "import statsmodels.api as s\n",
    "\n",
    "s.stats.DescrStatsW(data[\"Gender\"]).zconfint_mean()"
   ]
  },
  {
   "cell_type": "code",
   "execution_count": 108,
   "metadata": {},
   "outputs": [
    {
     "data": {
      "text/plain": [
       "(1.9322403924162006, 1.9759874556850652)"
      ]
     },
     "execution_count": 108,
     "metadata": {},
     "output_type": "execute_result"
    }
   ],
   "source": [
    "s.stats.DescrStatsW(data[\"Standard\"]).zconfint_mean()"
   ]
  },
  {
   "cell_type": "code",
   "execution_count": 109,
   "metadata": {},
   "outputs": [
    {
     "data": {
      "text/plain": [
       "(0.7609831657913757, 0.8276244291453332)"
      ]
     },
     "execution_count": 109,
     "metadata": {},
     "output_type": "execute_result"
    }
   ],
   "source": [
    "s.stats.DescrStatsW(data[\"Institute type\"]).zconfint_mean()"
   ]
  },
  {
   "cell_type": "code",
   "execution_count": 110,
   "metadata": {},
   "outputs": [
    {
     "data": {
      "text/plain": [
       "(1.092084291474221, 1.2243714047283105)"
      ]
     },
     "execution_count": 110,
     "metadata": {},
     "output_type": "execute_result"
    }
   ],
   "source": [
    "s.stats.DescrStatsW(data[\"Siblings\"]).zconfint_mean()"
   ]
  },
  {
   "cell_type": "code",
   "execution_count": 111,
   "metadata": {},
   "outputs": [
    {
     "data": {
      "text/plain": [
       "(1.25205759011967, 1.3428791187410896)"
      ]
     },
     "execution_count": 111,
     "metadata": {},
     "output_type": "execute_result"
    }
   ],
   "source": [
    "s.stats.DescrStatsW(data[\"Father's job\"]).zconfint_mean()"
   ]
  },
  {
   "cell_type": "code",
   "execution_count": 112,
   "metadata": {},
   "outputs": [
    {
     "data": {
      "text/plain": [
       "(1.0997148842342865, 1.1692724575378655)"
      ]
     },
     "execution_count": 112,
     "metadata": {},
     "output_type": "execute_result"
    }
   ],
   "source": [
    "s.stats.DescrStatsW(data[\"Mother's job\"]).zconfint_mean()"
   ]
  },
  {
   "cell_type": "code",
   "execution_count": 113,
   "metadata": {},
   "outputs": [
    {
     "data": {
      "text/plain": [
       "(1.845020232031436, 1.9524481223989436)"
      ]
     },
     "execution_count": 113,
     "metadata": {},
     "output_type": "execute_result"
    }
   ],
   "source": [
    "s.stats.DescrStatsW(data[\"English\"]).zconfint_mean()"
   ]
  },
  {
   "cell_type": "code",
   "execution_count": 114,
   "metadata": {},
   "outputs": [
    {
     "data": {
      "text/plain": [
       "(2.5028743991256994, 2.6490243350515157)"
      ]
     },
     "execution_count": 114,
     "metadata": {},
     "output_type": "execute_result"
    }
   ],
   "source": [
    "s.stats.DescrStatsW(data[\"Learning progress\"]).zconfint_mean()"
   ]
  },
  {
   "cell_type": "code",
   "execution_count": 115,
   "metadata": {},
   "outputs": [
    {
     "data": {
      "text/plain": [
       "(2.515326336996191, 2.6682179668012775)"
      ]
     },
     "execution_count": 115,
     "metadata": {},
     "output_type": "execute_result"
    }
   ],
   "source": [
    "s.stats.DescrStatsW(data[\"Learning habit maintenance\"]).zconfint_mean()"
   ]
  },
  {
   "cell_type": "code",
   "execution_count": 116,
   "metadata": {},
   "outputs": [
    {
     "data": {
      "text/plain": [
       "(2.5866294986715834, 2.729826197530948)"
      ]
     },
     "execution_count": 116,
     "metadata": {},
     "output_type": "execute_result"
    }
   ],
   "source": [
    "s.stats.DescrStatsW(data[\"Teacher influence\"]).zconfint_mean()"
   ]
  },
  {
   "cell_type": "code",
   "execution_count": 117,
   "metadata": {},
   "outputs": [
    {
     "data": {
      "text/plain": [
       "(2.8175620685099783, 2.948260716300148)"
      ]
     },
     "execution_count": 117,
     "metadata": {},
     "output_type": "execute_result"
    }
   ],
   "source": [
    "s.stats.DescrStatsW(data[\"Parent influence\"]).zconfint_mean()"
   ]
  },
  {
   "cell_type": "code",
   "execution_count": 118,
   "metadata": {},
   "outputs": [
    {
     "data": {
      "text/plain": [
       "(2.468222363271296, 2.607727003817312)"
      ]
     },
     "execution_count": 118,
     "metadata": {},
     "output_type": "execute_result"
    }
   ],
   "source": [
    "s.stats.DescrStatsW(data[\"Sibling influence\"]).zconfint_mean()"
   ]
  },
  {
   "cell_type": "code",
   "execution_count": 119,
   "metadata": {},
   "outputs": [
    {
     "data": {
      "text/plain": [
       "(2.4040297953060215, 2.551666407225624)"
      ]
     },
     "execution_count": 119,
     "metadata": {},
     "output_type": "execute_result"
    }
   ],
   "source": [
    "s.stats.DescrStatsW(data[\"Peer influence\"]).zconfint_mean()"
   ]
  },
  {
   "cell_type": "code",
   "execution_count": 120,
   "metadata": {},
   "outputs": [
    {
     "data": {
      "text/plain": [
       "(2.7638006893469957, 2.9039208296403456)"
      ]
     },
     "execution_count": 120,
     "metadata": {},
     "output_type": "execute_result"
    }
   ],
   "source": [
    "s.stats.DescrStatsW(data[\"Self-learning motivation\"]).zconfint_mean()"
   ]
  },
  {
   "cell_type": "code",
   "execution_count": 121,
   "metadata": {},
   "outputs": [
    {
     "data": {
      "text/plain": [
       "(3.1017979594132488, 3.227315964637384)"
      ]
     },
     "execution_count": 121,
     "metadata": {},
     "output_type": "execute_result"
    }
   ],
   "source": [
    "s.stats.DescrStatsW(data[\"Family support\"]).zconfint_mean()"
   ]
  },
  {
   "cell_type": "code",
   "execution_count": 122,
   "metadata": {},
   "outputs": [
    {
     "data": {
      "text/plain": [
       "(2.4980109801736843, 2.6380649691934046)"
      ]
     },
     "execution_count": 122,
     "metadata": {},
     "output_type": "execute_result"
    }
   ],
   "source": [
    "s.stats.DescrStatsW(data[\"Daily learning objectives\"]).zconfint_mean()"
   ]
  },
  {
   "cell_type": "code",
   "execution_count": 123,
   "metadata": {},
   "outputs": [
    {
     "data": {
      "text/plain": [
       "(2.651209851735896, 2.7949926799096736)"
      ]
     },
     "execution_count": 123,
     "metadata": {},
     "output_type": "execute_result"
    }
   ],
   "source": [
    "s.stats.DescrStatsW(data[\"Communication and collaboration with friends\"]).zconfint_mean()"
   ]
  },
  {
   "cell_type": "markdown",
   "metadata": {
    "id": "OSkyfye38BNo"
   },
   "source": [
    "### 1.How does the type of education (public/private) affect the student’s learning progress? To what extent does the family’s income determine the student’s performance?"
   ]
  },
  {
   "cell_type": "code",
   "execution_count": 248,
   "metadata": {
    "colab": {
     "base_uri": "https://localhost:8080/",
     "height": 386
    },
    "id": "3lIu0x7f8DpP",
    "outputId": "ba7d0cdd-7629-433c-873e-a22fb786d22f"
   },
   "outputs": [
    {
     "data": {
      "text/plain": [
       "[Text(0, 0, 'Public'), Text(0, 0, 'Private'), Text(0, 0, 'International')]"
      ]
     },
     "execution_count": 248,
     "metadata": {},
     "output_type": "execute_result"
    },
    {
     "data": {
      "image/png": "[encoded data removed]",
      "text/plain": [
       "<Figure size 360x288 with 1 Axes>"
      ]
     },
     "metadata": {
      "needs_background": "light"
     },
     "output_type": "display_data"
    }
   ],
   "source": [
    "fig_dims = (5, 4)\n",
    "fig, ax = plt.subplots(figsize=fig_dims)\n",
    "a = sns.barplot(x='Learning progress',y='Institute type',hue=dataset['Gender'],data=data,palette='Purples',ci=95,ax=ax,orient=\"h\")\n",
    "a.set_yticklabels(['Public','Private','International'])"
   ]
  },
  {
   "cell_type": "code",
   "execution_count": 260,
   "metadata": {
    "id": "d5V3t9p18_IA"
   },
   "outputs": [
    {
     "data": {
      "text/plain": [
       "[Text(0, 0, 'Between jobs'),\n",
       " Text(0, 0, 'Service'),\n",
       " Text(0, 0, 'Others'),\n",
       " Text(0, 0, 'Social Work')]"
      ]
     },
     "execution_count": 260,
     "metadata": {},
     "output_type": "execute_result"
    },
    {
     "data": {
      "image/png": "[encoded data removed]",
      "text/plain": [
       "<Figure size 504x360 with 1 Axes>"
      ]
     },
     "metadata": {
      "needs_background": "light"
     },
     "output_type": "display_data"
    }
   ],
   "source": [
    "fig_dims = (7, 5)\n",
    "fig, ax = plt.subplots(figsize=fig_dims)\n",
    "a = sns.barplot(x=\"Father's job\",y='Learning progress',hue=dataset['Institute type'],data=data,palette=\"rocket\",ax=ax)\n",
    "a.set_xticklabels(['Between jobs','Service','Others','Social Work'])"
   ]
  },
  {
   "cell_type": "code",
   "execution_count": 253,
   "metadata": {},
   "outputs": [
    {
     "data": {
      "text/plain": [
       "[Text(0, 0, 'Others'),\n",
       " Text(0, 0, 'House Makers'),\n",
       " Text(0, 0, 'Service'),\n",
       " Text(0, 0, 'Social Work')]"
      ]
     },
     "execution_count": 253,
     "metadata": {},
     "output_type": "execute_result"
    },
    {
     "data": {
      "image/png": "[encoded data removed]",
      "text/plain": [
       "<Figure size 504x360 with 1 Axes>"
      ]
     },
     "metadata": {
      "needs_background": "light"
     },
     "output_type": "display_data"
    }
   ],
   "source": [
    "fig_dims = (7, 5)\n",
    "fig, ax = plt.subplots(figsize=fig_dims)\n",
    "a = sns.barplot(x=\"Mother's job\",y=\"Learning progress\",hue=dataset['Institute type'],data=data,palette='winter',ci=95,orient=\"v\",ax=ax)\n",
    "a.set_xticklabels(['Others','House Makers','Service','Social Work'])"
   ]
  },
  {
   "cell_type": "markdown",
   "metadata": {
    "id": "1w4Bh9wjC25X"
   },
   "source": [
    "### 2.Does having more siblings affect the student’s learning hours? Is english an important factor in determining how confident a student is about his/her learning progress?"
   ]
  },
  {
   "cell_type": "code",
   "execution_count": 174,
   "metadata": {
    "colab": {
     "base_uri": "https://localhost:8080/",
     "height": 386
    },
    "id": "bcVF3h8qmj9G",
    "outputId": "ea856ad0-fe20-4f49-99ed-e9cc83e0c027"
   },
   "outputs": [
    {
     "data": {
      "text/plain": [
       "[Text(0, 0, 'Zero'),\n",
       " Text(0, 0, 'One'),\n",
       " Text(0, 0, 'Two'),\n",
       " Text(0, 0, 'Three'),\n",
       " Text(0, 0, 'Over Four')]"
      ]
     },
     "execution_count": 174,
     "metadata": {},
     "output_type": "execute_result"
    },
    {
     "data": {
      "image/png": "[encoded data removed]",
      "text/plain": [
       "<Figure size 576x360 with 1 Axes>"
      ]
     },
     "metadata": {
      "needs_background": "light"
     },
     "output_type": "display_data"
    }
   ],
   "source": [
    "fig_dims = (8, 5)\n",
    "fig, ax = plt.subplots(figsize=fig_dims)\n",
    "a = sns.boxenplot(x=\"Daily learning objectives\",y='Siblings',hue=dataset['Gender'],data=data,palette='Paired',orient=\"h\",ax=ax)\n",
    "a.set_yticklabels(['Zero','One','Two','Three',\"Over Four\"])"
   ]
  },
  {
   "cell_type": "code",
   "execution_count": 199,
   "metadata": {},
   "outputs": [
    {
     "data": {
      "text/plain": [
       "[Text(0, 0, 'Public'), Text(0, 0, 'Private'), Text(0, 0, 'International')]"
      ]
     },
     "execution_count": 199,
     "metadata": {},
     "output_type": "execute_result"
    },
    {
     "data": {
      "image/png": "[encoded data removed]",
      "text/plain": [
       "<Figure size 576x360 with 1 Axes>"
      ]
     },
     "metadata": {
      "needs_background": "light"
     },
     "output_type": "display_data"
    }
   ],
   "source": [
    "fig_dims = (8, 5)\n",
    "fig, ax = plt.subplots(figsize=fig_dims)\n",
    "a = sns.barplot(x=\"Institute type\",y='Learning progress',hue=dataset['English'],data=data,palette='autumn',ci=95,ax=ax)\n",
    "a.set_xticklabels(['Public','Private','International'])"
   ]
  },
  {
   "cell_type": "markdown",
   "metadata": {},
   "source": [
    "### 3.How crucial is the type of school/college for helping studentss have a persistent learning schedule?"
   ]
  },
  {
   "cell_type": "code",
   "execution_count": 221,
   "metadata": {
    "colab": {
     "base_uri": "https://localhost:8080/",
     "height": 386
    },
    "id": "7bUtHOmy-8i6",
    "outputId": "1ee15edd-edd7-490d-f483-c7569396cf3b"
   },
   "outputs": [
    {
     "data": {
      "text/plain": [
       "[Text(0, 0, 'Public'), Text(0, 0, 'Private'), Text(0, 0, 'International')]"
      ]
     },
     "execution_count": 221,
     "metadata": {},
     "output_type": "execute_result"
    },
    {
     "data": {
      "image/png": "[encoded data removed]",
      "text/plain": [
       "<Figure size 576x360 with 1 Axes>"
      ]
     },
     "metadata": {
      "needs_background": "light"
     },
     "output_type": "display_data"
    }
   ],
   "source": [
    "fig_dims = (8, 5)\n",
    "fig, ax = plt.subplots(figsize=fig_dims)\n",
    "a = sns.violinplot(x=\"Learning habit maintenance\",y='Institute type',hue=dataset['Gender'],data=data,palette='ocean',orient=\"h\",ax=ax)\n",
    "a.set_yticklabels(['Public','Private','International'])"
   ]
  },
  {
   "cell_type": "markdown",
   "metadata": {
    "id": "DkX2O_OGC865"
   },
   "source": [
    "### 4.How well does the support of family, friends,and teachers for learning from home impact their learning progress?"
   ]
  },
  {
   "cell_type": "code",
   "execution_count": 250,
   "metadata": {},
   "outputs": [
    {
     "data": {
      "text/plain": [
       "[Text(0, 0, 'Strongly disagree'),\n",
       " Text(0, 0, 'Disagree'),\n",
       " Text(0, 0, 'Neither agree nor disagree'),\n",
       " Text(0, 0, 'Agree'),\n",
       " Text(0, 0, 'Strongly Agree')]"
      ]
     },
     "execution_count": 250,
     "metadata": {},
     "output_type": "execute_result"
    },
    {
     "data": {
      "image/png": "[encoded data removed]",
      "text/plain": [
       "<Figure size 432x360 with 1 Axes>"
      ]
     },
     "metadata": {
      "needs_background": "light"
     },
     "output_type": "display_data"
    }
   ],
   "source": [
    "fig_dims = (6, 5)\n",
    "fig, ax = plt.subplots(figsize=fig_dims)\n",
    "a = sns.barplot(x=\"Learning progress\",y='Communication and collaboration with friends',hue=dataset['Gender'],data=data,palette='Set1',orient=\"h\",ax=ax)\n",
    "a.set_yticklabels(['Strongly disagree','Disagree','Neither agree nor disagree','Agree','Strongly Agree'])"
   ]
  },
  {
   "cell_type": "code",
   "execution_count": 225,
   "metadata": {
    "colab": {
     "base_uri": "https://localhost:8080/",
     "height": 418
    },
    "id": "-440asIkkrFO",
    "outputId": "fca69ea5-068e-4eaa-f917-5127c46f2e38",
    "scrolled": false
   },
   "outputs": [
    {
     "data": {
      "text/plain": [
       "[Text(0, 0, 'Strongly disagree'),\n",
       " Text(0, 0, 'Disagree'),\n",
       " Text(0, 0, 'Neither agree nor disagree'),\n",
       " Text(0, 0, 'Agree'),\n",
       " Text(0, 0, 'Strongly Agree')]"
      ]
     },
     "execution_count": 225,
     "metadata": {},
     "output_type": "execute_result"
    },
    {
     "data": {
      "image/png": "[encoded data removed]",
      "text/plain": [
       "<Figure size 792x504 with 1 Axes>"
      ]
     },
     "metadata": {
      "needs_background": "light"
     },
     "output_type": "display_data"
    }
   ],
   "source": [
    "fig_dims = (11, 7)\n",
    "fig, ax = plt.subplots(figsize=fig_dims)\n",
    "a = sns.barplot(x=\"Learning progress\",y='Family support',hue=dataset['Self-learning motivation'],data=data,palette='prism',orient=\"h\",ci=95,ax=ax)\n",
    "a.set_yticklabels(['Strongly disagree','Disagree','Neither agree nor disagree','Agree','Strongly Agree'])"
   ]
  },
  {
   "cell_type": "markdown",
   "metadata": {},
   "source": [
    "### 5.How do teachers influence their students into learning and help them cope with their studies online?"
   ]
  },
  {
   "cell_type": "code",
   "execution_count": 234,
   "metadata": {
    "id": "NnJpPWdGC9y2"
   },
   "outputs": [
    {
     "data": {
      "text/plain": [
       "[Text(0, 0, 'Public'), Text(0, 0, 'Private'), Text(0, 0, 'International')]"
      ]
     },
     "execution_count": 234,
     "metadata": {},
     "output_type": "execute_result"
    },
    {
     "data": {
      "image/png": "[encoded data removed]",
      "text/plain": [
       "<Figure size 576x504 with 1 Axes>"
      ]
     },
     "metadata": {
      "needs_background": "light"
     },
     "output_type": "display_data"
    }
   ],
   "source": [
    "fig_dims = (8, 7)\n",
    "fig, ax = plt.subplots(figsize=fig_dims)\n",
    "a = sns.barplot(x=\"Institute type\",y='Learning progress',hue=dataset['Teacher influence'],data=data,palette='rainbow',orient=\"v\",ax=ax)\n",
    "a.set_xticklabels(['Public','Private','International'])"
   ]
  },
  {
   "cell_type": "code",
   "execution_count": null,
   "metadata": {},
   "outputs": [],
   "source": []
  }
 ],
 "metadata": {
  "colab": {
   "collapsed_sections": [],
   "name": "new covid",
   "provenance": []
  },
  "kernelspec": {
   "display_name": "Python 3",
   "language": "python",
   "name": "python3"
  },
  "language_info": {
   "codemirror_mode": {
    "name": "ipython",
    "version": 3
   },
   "file_extension": ".py",
   "mimetype": "text/x-python",
   "name": "python",
   "nbconvert_exporter": "python",
   "pygments_lexer": "ipython3",
   "version": "3.8.3"
  }
 },
 "nbformat": 4,
 "nbformat_minor": 1
}
